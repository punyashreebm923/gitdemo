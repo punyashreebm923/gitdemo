{
  "cells": [
    {
      "cell_type": "markdown",
      "metadata": {
        "id": "view-in-github",
        "colab_type": "text"
      },
      "source": [
        "<a href=\"https://colab.research.google.com/github/punyashreebm923/python-related/blob/main/Copy_of_Welcome_to_Colaboratory.ipynb\" target=\"_parent\"><img src=\"https://colab.research.google.com/assets/colab-badge.svg\" alt=\"Open In Colab\"/></a>"
      ]
    },
    {
      "cell_type": "code",
      "source": [
        "class Hero:\n",
        "    def __init__(self):\n",
        "        self.name = \"PR\"\n",
        "        self.age = 47\n",
        "        self.Height = 5.8\n",
        "        self.addr = \"sd\"\n",
        "    def dance(self):\n",
        "        print(\"Hero is dancing\")\n",
        "    def act(self):\n",
        "        print(\"Hero is acting\")\n",
        "h1 = Hero()\n",
        "print(h1.name)\n",
        "print(h1.age)\n",
        "print(h1.Height)\n",
        "print(h1.addr)\n",
        "\n",
        "h1.Height = 5.9\n",
        "h1.addr = \"Bangaluru\"\n",
        "\n",
        "h1.noofmovies = 56\n",
        "h1.noofhits = 15\n",
        "\n",
        "h2 = h1\n",
        "h3 = h2\n",
        "\n",
        "print(h3.name)\n",
        "print(h2.age)\n",
        "print(h3.Height)\n",
        "print(h2.addr)\n",
        "print(h1.noofmovies)\n",
        "print(h2.noofhits)\n",
        "\n",
        "h3.dance()\n",
        "h1.act()"
      ],
      "metadata": {
        "id": "dp8ySx7bd1Xw",
        "outputId": "274399db-c1b5-4a80-acce-4e386ea69976",
        "colab": {
          "base_uri": "https://localhost:8080/"
        }
      },
      "execution_count": null,
      "outputs": [
        {
          "output_type": "stream",
          "name": "stdout",
          "text": [
            "PR\n",
            "47\n",
            "5.8\n",
            "sd\n",
            "PR\n",
            "47\n",
            "5.9\n",
            "Bangaluru\n",
            "56\n",
            "15\n",
            "Hero is dancing\n",
            "Hero is acting\n"
          ]
        }
      ]
    }
  ],
  "metadata": {
    "colab": {
      "toc_visible": true,
      "provenance": [],
      "include_colab_link": true
    },
    "kernelspec": {
      "display_name": "Python 3",
      "name": "python3"
    }
  },
  "nbformat": 4,
  "nbformat_minor": 0
}