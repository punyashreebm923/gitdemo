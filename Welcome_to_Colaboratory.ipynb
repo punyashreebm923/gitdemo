{
  "cells": [
    {
      "cell_type": "markdown",
      "metadata": {
        "id": "view-in-github",
        "colab_type": "text"
      },
      "source": [
        "<a href=\"https://colab.research.google.com/github/punyashreebm923/python-related/blob/main/Welcome_to_Colaboratory.ipynb\" target=\"_parent\"><img src=\"https://colab.research.google.com/assets/colab-badge.svg\" alt=\"Open In Colab\"/></a>"
      ]
    },
    {
      "cell_type": "code",
      "source": [
        "class Student:\n",
        "  def __init__(self):\n",
        "    self.name = \"rama\"\n",
        "    self.age = 24\n",
        "    self.mob = 960683\n",
        "    self.addr = \"Bang\"\n",
        "  def eat(self):\n",
        "    print(\"student is eating\")\n",
        "  def study(self):\n",
        "    print(\"student is studing\")\n",
        "s1 = Student()\n",
        "print(s1.name)\n",
        "print(s1.age)\n",
        "print(s1.mob)\n",
        "print(s1.addr)\n",
        "\n",
        "s1.eat()\n",
        "s1.study()\n",
        ""
      ],
      "metadata": {
        "id": "pteZPXliSj1N",
        "outputId": "87231a2c-beac-4cfa-a180-d4449040e1a2",
        "colab": {
          "base_uri": "https://localhost:8080/"
        }
      },
      "execution_count": 1,
      "outputs": [
        {
          "output_type": "stream",
          "name": "stdout",
          "text": [
            "rama\n",
            "24\n",
            "960683\n",
            "Bang\n",
            "student is eating\n",
            "student is studing\n"
          ]
        }
      ]
    }
  ],
  "metadata": {
    "colab": {
      "name": "Welcome to Colaboratory",
      "toc_visible": true,
      "provenance": [],
      "include_colab_link": true
    },
    "kernelspec": {
      "display_name": "Python 3",
      "name": "python3"
    }
  },
  "nbformat": 4,
  "nbformat_minor": 0
}