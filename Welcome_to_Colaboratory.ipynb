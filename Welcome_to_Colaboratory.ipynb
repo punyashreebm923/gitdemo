{
  "cells": [
    {
      "cell_type": "markdown",
      "metadata": {
        "id": "view-in-github",
        "colab_type": "text"
      },
      "source": [
        "<a href=\"https://colab.research.google.com/github/punyashreebm923/python-related/blob/main/Welcome_to_Colaboratory.ipynb\" target=\"_parent\"><img src=\"https://colab.research.google.com/assets/colab-badge.svg\" alt=\"Open In Colab\"/></a>"
      ]
    },
    {
      "cell_type": "code",
      "source": [
        "#swapping of 2 numbers\n",
        "a = 4\n",
        "b = 5\n",
        "\n",
        "\n",
        "temp = a\n",
        "a = b\n",
        "b = temp\n",
        "print(\"a = \",a)\n",
        "print(\"b = \",b)\n"
      ],
      "metadata": {
        "id": "vAbkYaVWWWx2",
        "outputId": "339faaf7-8e4c-4f80-ad10-1532f61bdd3c",
        "colab": {
          "base_uri": "https://localhost:8080/"
        }
      },
      "execution_count": 4,
      "outputs": [
        {
          "output_type": "stream",
          "name": "stdout",
          "text": [
            "a =  5\n",
            "b =  4\n"
          ]
        }
      ]
    },
    {
      "cell_type": "code",
      "source": [
        "#without using temp\n",
        "a = 4\n",
        "b = 5\n",
        "a,b = b,a\n",
        "print(\"a =\",a)\n",
        "print(\"b =\",b)\n"
      ],
      "metadata": {
        "id": "NCZ4PSbxYX7e",
        "outputId": "21494899-b48f-4438-9801-72a5d09bcba8",
        "colab": {
          "base_uri": "https://localhost:8080/"
        }
      },
      "execution_count": 6,
      "outputs": [
        {
          "output_type": "stream",
          "name": "stdout",
          "text": [
            "a = 5\n",
            "b = 4\n"
          ]
        }
      ]
    }
  ],
  "metadata": {
    "colab": {
      "name": "Welcome to Colaboratory",
      "toc_visible": true,
      "provenance": [],
      "include_colab_link": true
    },
    "kernelspec": {
      "display_name": "Python 3",
      "name": "python3"
    }
  },
  "nbformat": 4,
  "nbformat_minor": 0
}