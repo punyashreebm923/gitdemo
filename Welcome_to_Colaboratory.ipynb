{
  "cells": [
    {
      "cell_type": "markdown",
      "metadata": {
        "id": "view-in-github",
        "colab_type": "text"
      },
      "source": [
        "<a href=\"https://colab.research.google.com/github/punyashreebm923/gitdemo/blob/main/Welcome_to_Colaboratory.ipynb\" target=\"_parent\"><img src=\"https://colab.research.google.com/assets/colab-badge.svg\" alt=\"Open In Colab\"/></a>"
      ]
    },
    {
      "cell_type": "code",
      "source": [
        "class Fan:\n",
        "  #we are creating an object\n",
        "    def __init__(self):\n",
        "        self.brand = \"Bajaj\"\n",
        "        self.color = \"white\"\n",
        "        self.cost = 12000\n",
        "        self.noofblades = 3\n",
        "  #declare an method\n",
        "    def on (self):\n",
        "        print(\"fan is on\")\n",
        "    def rotate(self):\n",
        "        print(\"fan is rotating \")\n",
        "    def off(self):\n",
        "        print(\"fan is off\")\n",
        "f1 = Fan()\n",
        "print(f1.brand)\n",
        "print(f1.color)\n",
        "print(f1.cost)\n",
        "print(f1.noofblades)\n",
        "\n",
        "f1.on()\n",
        "f1.rotate()\n",
        "f1.off()"
      ],
      "metadata": {
        "colab": {
          "base_uri": "https://localhost:8080/"
        },
        "id": "ozXY-cDGZVkf",
        "outputId": "2de1b7a1-df79-444d-dead-043d385136f1"
      },
      "execution_count": 10,
      "outputs": [
        {
          "output_type": "stream",
          "name": "stdout",
          "text": [
            "Bajaj\n",
            "white\n",
            "12000\n",
            "3\n",
            "fan is on\n",
            "fan is rotating \n",
            "fan is off\n"
          ]
        }
      ]
    }
  ],
  "metadata": {
    "colab": {
      "name": "Welcome to Colaboratory",
      "toc_visible": true,
      "provenance": [],
      "include_colab_link": true
    },
    "kernelspec": {
      "display_name": "Python 3",
      "name": "python3"
    }
  },
  "nbformat": 4,
  "nbformat_minor": 0
}