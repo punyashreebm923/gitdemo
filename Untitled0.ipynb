{
  "nbformat": 4,
  "nbformat_minor": 0,
  "metadata": {
    "colab": {
      "provenance": [],
      "authorship_tag": "ABX9TyMgVGLHKL3CkvQlaPAkOLMw",
      "include_colab_link": true
    },
    "kernelspec": {
      "name": "python3",
      "display_name": "Python 3"
    },
    "language_info": {
      "name": "python"
    }
  },
  "cells": [
    {
      "cell_type": "markdown",
      "metadata": {
        "id": "view-in-github",
        "colab_type": "text"
      },
      "source": [
        "<a href=\"https://colab.research.google.com/github/punyashreebm923/python-related/blob/main/Untitled0.ipynb\" target=\"_parent\"><img src=\"https://colab.research.google.com/assets/colab-badge.svg\" alt=\"Open In Colab\"/></a>"
      ]
    },
    {
      "cell_type": "code",
      "execution_count": 1,
      "metadata": {
        "colab": {
          "base_uri": "https://localhost:8080/"
        },
        "id": "57gB-TZOiUKJ",
        "outputId": "4716a8f9-2090-4421-e233-aad9cc50afb1"
      },
      "outputs": [
        {
          "output_type": "stream",
          "name": "stdout",
          "text": [
            "30\n"
          ]
        }
      ],
      "source": [
        "#normal addition operation\n",
        "#this is also called as static\n",
        "a = 10\n",
        "b = 20\n",
        "c = a+b\n",
        "print(c)"
      ]
    },
    {
      "cell_type": "code",
      "source": [
        "#addition operation\n",
        "#this is also called as  dynamic\n",
        "print(\"enter a value 1\")\n",
        "a = (input())\n",
        "print(\"enter a value 2\")\n",
        "b = (input())\n",
        "\n",
        "c = a + b\n",
        "print(c)\n"
      ],
      "metadata": {
        "colab": {
          "base_uri": "https://localhost:8080/"
        },
        "id": "32FD927Oi4o2",
        "outputId": "e8420e20-799f-4c59-c0ac-ae4d3d8e705f"
      },
      "execution_count": 5,
      "outputs": [
        {
          "output_type": "stream",
          "name": "stdout",
          "text": [
            "enter a value 1\n",
            "10\n",
            "enter a value 2\n",
            "20\n",
            "1020\n"
          ]
        }
      ]
    },
    {
      "cell_type": "code",
      "source": [
        "#input only accepts string as an iput so we have to convert into sutiable formate to performate\n",
        "print(\"enter a value 1\")\n",
        "a = int(input())\n",
        "print(\"enter a value 2\")\n",
        "b = int(input())\n",
        "\n",
        "c = a + b\n",
        "print(c)\n",
        "\n",
        "\n"
      ],
      "metadata": {
        "colab": {
          "base_uri": "https://localhost:8080/"
        },
        "id": "bpNR_EgckKMu",
        "outputId": "26dcd181-65d7-494d-a881-4e4aa72ebdee"
      },
      "execution_count": 12,
      "outputs": [
        {
          "output_type": "stream",
          "name": "stdout",
          "text": [
            "enter a value 1\n",
            "10\n",
            "enter a value 2\n",
            "20\n",
            "30\n"
          ]
        }
      ]
    },
    {
      "cell_type": "code",
      "source": [
        "#we can also write is single line such as\n",
        "a =int(input(\"enter a value one:\\n\"))\n",
        "b =int(input(\"enter a value two:\\n\"))\n",
        "c = a + b\n",
        "print(\"the result is\")\n",
        "print(c)"
      ],
      "metadata": {
        "colab": {
          "base_uri": "https://localhost:8080/"
        },
        "id": "A_L_PX2tlqm8",
        "outputId": "16638475-37f6-4f76-b2c9-a2ce5e8612e0"
      },
      "execution_count": 14,
      "outputs": [
        {
          "output_type": "stream",
          "name": "stdout",
          "text": [
            "enter a value one:\n",
            "10\n",
            "enter a value two:\n",
            "20\n",
            "the result is\n",
            "30\n"
          ]
        }
      ]
    }
  ]
}